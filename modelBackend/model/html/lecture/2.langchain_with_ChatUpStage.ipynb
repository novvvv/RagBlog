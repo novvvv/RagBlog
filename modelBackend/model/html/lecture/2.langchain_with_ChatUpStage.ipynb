{
 "cells": [
  {
   "cell_type": "code",
   "execution_count": null,
   "id": "6bc8f846",
   "metadata": {},
   "outputs": [],
   "source": [
    "%pip install python-dotenv langchain-upstage"
   ]
  },
  {
   "cell_type": "markdown",
   "id": "073f02e6",
   "metadata": {},
   "source": [
    "## 2. 환경변수 설정\n",
    ".env 파일에 등록"
   ]
  },
  {
   "cell_type": "code",
   "execution_count": 2,
   "id": "9fb7ab67",
   "metadata": {},
   "outputs": [
    {
     "data": {
      "text/plain": [
       "True"
      ]
     },
     "execution_count": 2,
     "metadata": {},
     "output_type": "execute_result"
    }
   ],
   "source": [
    "from dotenv import load_dotenv\n",
    "load_dotenv()"
   ]
  },
  {
   "cell_type": "code",
   "execution_count": 3,
   "id": "faa9aeae",
   "metadata": {},
   "outputs": [],
   "source": [
    "from langchain_upstage import ChatUpstage \n",
    "llm = ChatUpstage()"
   ]
  },
  {
   "cell_type": "code",
   "execution_count": 5,
   "id": "62dcee0d",
   "metadata": {},
   "outputs": [],
   "source": [
    "ai_message = llm.invoke(\"안녕\")"
   ]
  },
  {
   "cell_type": "code",
   "execution_count": 6,
   "id": "407c02db",
   "metadata": {},
   "outputs": [
    {
     "data": {
      "text/plain": [
       "'안녕하세요! Upstage의 AI Solar입니다. 어떤 도움이 필요하신가요?'"
      ]
     },
     "execution_count": 6,
     "metadata": {},
     "output_type": "execute_result"
    }
   ],
   "source": [
    "ai_message.content"
   ]
  },
  {
   "cell_type": "code",
   "execution_count": null,
   "id": "266f2f2a",
   "metadata": {},
   "outputs": [],
   "source": [
    "\n"
   ]
  }
 ],
 "metadata": {
  "kernelspec": {
   "display_name": "rag-chatbot",
   "language": "python",
   "name": "python3"
  },
  "language_info": {
   "codemirror_mode": {
    "name": "ipython",
    "version": 3
   },
   "file_extension": ".py",
   "mimetype": "text/x-python",
   "name": "python",
   "nbconvert_exporter": "python",
   "pygments_lexer": "ipython3",
   "version": "3.10.0"
  }
 },
 "nbformat": 4,
 "nbformat_minor": 5
}
