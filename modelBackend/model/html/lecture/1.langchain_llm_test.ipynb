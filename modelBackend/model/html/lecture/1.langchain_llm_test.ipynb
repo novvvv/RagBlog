{
 "cells": [
  {
   "cell_type": "code",
   "execution_count": null,
   "id": "daa2bcd4",
   "metadata": {},
   "outputs": [],
   "source": [
    "%pip install langchain-openai python-dotenv "
   ]
  },
  {
   "cell_type": "code",
   "execution_count": 2,
   "id": "e084be82",
   "metadata": {},
   "outputs": [
    {
     "data": {
      "text/plain": [
       "True"
      ]
     },
     "execution_count": 2,
     "metadata": {},
     "output_type": "execute_result"
    }
   ],
   "source": [
    "from dotenv import load_dotenv\n",
    "load_dotenv()"
   ]
  },
  {
   "cell_type": "code",
   "execution_count": 3,
   "id": "5d59446f",
   "metadata": {},
   "outputs": [],
   "source": [
    "from langchain_openai import ChatOpenAI\n",
    "llm = ChatOpenAI()"
   ]
  },
  {
   "cell_type": "code",
   "execution_count": 4,
   "id": "5f7cb931",
   "metadata": {},
   "outputs": [
    {
     "data": {
      "text/plain": [
       "'죄송합니다. 이 블로그는 인공지능이 작성한 블로그이며, 그 내용은 사용자의 입력을 기반으로 생성됩니다. 여러 가지 주제에 관한 정보, 팁, 조언 등을 다룰 수 있습니다. 부가적인 정보가 필요하다면 더 자세히 알려주시면 도움을 드리겠습니다.'"
      ]
     },
     "execution_count": 4,
     "metadata": {},
     "output_type": "execute_result"
    }
   ],
   "source": [
    "ai_message = llm.invoke(\"이 블로그는 어떤 블로그인가요?\")\n",
    "ai_message.content"
   ]
  }
 ],
 "metadata": {
  "kernelspec": {
   "display_name": "rag-chatbot",
   "language": "python",
   "name": "python3"
  },
  "language_info": {
   "codemirror_mode": {
    "name": "ipython",
    "version": 3
   },
   "file_extension": ".py",
   "mimetype": "text/x-python",
   "name": "python",
   "nbconvert_exporter": "python",
   "pygments_lexer": "ipython3",
   "version": "3.10.0"
  }
 },
 "nbformat": 4,
 "nbformat_minor": 5
}
